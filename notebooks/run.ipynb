{
 "cells": [
  {
   "cell_type": "code",
   "execution_count": null,
   "metadata": {},
   "outputs": [
    {
     "name": "stdout",
     "output_type": "stream",
     "text": [
      "                                Variabile           VIF\n",
      "0                     X1 transaction date  4.325462e+07\n",
      "1                            X2 housea ge  3.888171e+00\n",
      "2  X3 distance to the nearest MRT station  5.330966e+00\n",
      "3         X4 number of convenience stores  5.163560e+00\n",
      "4                             X5 latitude  6.508588e+06\n",
      "5                            X6 longitude  4.400780e+07\n",
      "6                   Y price per unit area  2.086400e+01\n"
     ]
    }
   ],
   "source": [
    "import pandas as pd\n",
    "import seaborn as sns\n",
    "import matplotlib.pyplot as plt\n",
    "import sqlite3\n",
    "import pandas as pd\n",
    "import sys\n",
    "import os\n",
    "\n",
    "sys.path.append(os.path.abspath('..'))  # Adds the parent directory to sys.path\n",
    "from src import config\n",
    "\n",
    "from statsmodels.stats.outliers_influence import variance_inflation_factor\n",
    "import numpy as np\n",
    "\n",
    "\n",
    "df = pd.read_excel(os.path.join(config.RAW_DATA_PATH, 'Real estate valuation data set.xlsx'),\n",
    "    index_col=0  # Ignoriamo la prima colonna trattandola come indice\n",
    "    )\n",
    "\n",
    "df.columns = ['X1 transaction date', 'X2 housea ge', 'X3 distance to the nearest MRT station', 'X4 number of convenience stores', 'X5 latitude', 'X6 longitude', 'Y price per unit area']\n",
    "\n",
    "df.reset_index(drop=True, inplace=True)\n",
    "# Seleziona solo le variabili numeriche\n",
    "X = df.select_dtypes(include=[np.number])\n",
    "\n",
    "# Calcola il VIF per ogni variabile\n",
    "vif_data = pd.DataFrame()\n",
    "vif_data[\"Variabile\"] = X.columns\n",
    "vif_data[\"VIF\"] = [variance_inflation_factor(X.values, i) for i in range(X.shape[1])]\n",
    "\n",
    "# Mostra i risultati\n",
    "print(vif_data)\n",
    "#NON consideriamo la collinearità come problema"
   ]
  },
  {
   "cell_type": "code",
   "execution_count": null,
   "metadata": {},
   "outputs": [],
   "source": []
  }
 ],
 "metadata": {
  "kernelspec": {
   "display_name": "Python 3",
   "language": "python",
   "name": "python3"
  },
  "language_info": {
   "codemirror_mode": {
    "name": "ipython",
    "version": 3
   },
   "file_extension": ".py",
   "mimetype": "text/x-python",
   "name": "python",
   "nbconvert_exporter": "python",
   "pygments_lexer": "ipython3",
   "version": "3.13.2"
  }
 },
 "nbformat": 4,
 "nbformat_minor": 2
}
